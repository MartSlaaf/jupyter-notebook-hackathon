{
 "cells": [
  {
   "cell_type": "code",
   "execution_count": 1,
   "metadata": {},
   "outputs": [
    {
     "name": "stdout",
     "output_type": "stream",
     "text": [
      "Request successful!\n"
     ]
    }
   ],
   "source": [
    "# # Do not forget to check if your notebook log collection plugin is working\n",
    "from mining_extension import check_logging\n",
    "check_logging(\"http://3.249.245.244:9999\")"
   ]
  },
  {
   "cell_type": "code",
   "execution_count": 2,
   "metadata": {
    "ExecuteTime": {
     "end_time": "2023-04-26T16:12:14.666731Z",
     "start_time": "2023-04-26T16:12:14.634105Z"
    }
   },
   "outputs": [
    {
     "name": "stdout",
     "output_type": "stream",
     "text": [
      "(5833, 32)\n",
      "(1927, 32)\n",
      "(1918, 21)\n"
     ]
    }
   ],
   "source": [
    "import pandas as pd\n",
    "features_path = 'data/task2/'\n",
    "test_features = pd.read_pickle(features_path+'test_features.pkl')\n",
    "train_features = pd.read_pickle(features_path+'train_features.pkl')\n",
    "validation_features = pd.read_pickle(features_path+'validation_features.pkl')\n",
    "\n",
    "train_features.index = range(train_features.shape[0])\n",
    "validation_features.index = range(validation_features.shape[0])\n",
    "test_features.index = range(test_features.shape[0])\n",
    "\n",
    "train_features.fillna(0,inplace=True)\n",
    "test_features.fillna(0,inplace=True)\n",
    "validation_features.fillna(0,inplace=True)\n",
    "\n",
    "print(train_features.shape)\n",
    "print(validation_features.shape)\n",
    "print(test_features.shape)"
   ]
  },
  {
   "cell_type": "markdown",
   "metadata": {},
   "source": [
    "# Observe the data, conclude on possible ways to extract features"
   ]
  },
  {
   "cell_type": "code",
   "execution_count": 3,
   "metadata": {},
   "outputs": [],
   "source": [
    "from matplotlib import pyplot as plt\n",
    "%matplotlib inline"
   ]
  },
  {
   "cell_type": "code",
   "execution_count": 4,
   "metadata": {
    "ExecuteTime": {
     "end_time": "2023-04-26T16:12:35.388786Z",
     "start_time": "2023-04-26T16:12:35.376467Z"
    }
   },
   "outputs": [
    {
     "data": {
      "text/plain": [
       "Index(['filename', 'cell_type', 'cell_number', 'execution_count',\n",
       "       'linesofcomment', 'linesofcode', 'variable_count', 'function_count',\n",
       "       'text/plain', 'image/png', 'text/html', 'execute_result',\n",
       "       'display_data', 'stream', 'error', 'text', 'comment',\n",
       "       'code_line_before', 'code_line_after', 'markdown_heading',\n",
       "       'packages_info', 'primary_label', 'helper_functions', 'load_data',\n",
       "       'data_exploration', 'data_preprocessing', 'evaluation', 'modelling',\n",
       "       'prediction', 'result_visualization', 'save_results', 'comment_only'],\n",
       "      dtype='object')"
      ]
     },
     "execution_count": 4,
     "metadata": {},
     "output_type": "execute_result"
    }
   ],
   "source": [
    "train_features.columns"
   ]
  },
  {
   "cell_type": "code",
   "execution_count": 5,
   "metadata": {},
   "outputs": [
    {
     "data": {
      "text/plain": [
       "set()"
      ]
     },
     "execution_count": 5,
     "metadata": {},
     "output_type": "execute_result"
    }
   ],
   "source": [
    "set(train_features.filename) & set(validation_features.filename) #hmmm..."
   ]
  },
  {
   "cell_type": "code",
   "execution_count": 6,
   "metadata": {},
   "outputs": [
    {
     "data": {
      "text/plain": [
       "(code    5833\n",
       " Name: cell_type, dtype: int64,\n",
       " code    1927\n",
       " Name: cell_type, dtype: int64)"
      ]
     },
     "execution_count": 6,
     "metadata": {},
     "output_type": "execute_result"
    }
   ],
   "source": [
    "train_features['cell_type'].value_counts(), validation_features['cell_type'].value_counts() #🤔"
   ]
  },
  {
   "cell_type": "code",
   "execution_count": 7,
   "metadata": {},
   "outputs": [],
   "source": [
    "# The targets are set in stone\n",
    "y_columns = ['load_data', 'helper_functions', 'data_preprocessing', 'data_exploration', \n",
    "             'modelling', 'prediction', 'evaluation',\n",
    "             'result_visualization', 'save_results', 'comment_only']\n",
    "y_column = ['primary_label']"
   ]
  },
  {
   "cell_type": "code",
   "execution_count": 8,
   "metadata": {},
   "outputs": [
    {
     "data": {
      "image/png": "[encoded data removed]",
      "text/plain": [
       "<Figure size 640x480 with 1 Axes>"
      ]
     },
     "metadata": {},
     "output_type": "display_data"
    }
   ],
   "source": [
    "plt.hist(train_features[y_columns].values.sum(1), bins=[-0.5, 0.5, 1.5, 2.5, 3.5, 4.5, 5.5, 6.5, 7.5], log=True);\n",
    "plt.title('distribution of the classes count for the multiclass task');"
   ]
  },
  {
   "cell_type": "code",
   "execution_count": 9,
   "metadata": {
    "ExecuteTime": {
     "end_time": "2023-04-26T16:12:35.388786Z",
     "start_time": "2023-04-26T16:12:35.376467Z"
    }
   },
   "outputs": [
    {
     "data": {
      "image/png": "[encoded data removed]",
      "text/plain": [
       "<Figure size 640x480 with 1 Axes>"
      ]
     },
     "metadata": {},
     "output_type": "display_data"
    }
   ],
   "source": [
    "plt.hist(train_features.text.apply(len), log=True, bins=75);\n",
    "plt.title('distribution of the text lengths');"
   ]
  },
  {
   "cell_type": "code",
   "execution_count": 10,
   "metadata": {},
   "outputs": [],
   "source": [
    "# Config of the data types defining how to further process it for different trainings\n",
    "X_columns = set(train_features.columns) - set(y_column) - set(y_columns) - {'filename', 'cell_type'}\n",
    "X_columns_text = {'packages_info', 'code_line_after', 'code_line_before', 'text', 'comment', 'markdown_heading'}\n",
    "class_map = {k: i for i, k in enumerate(train_features.primary_label.unique())}"
   ]
  },
  {
   "cell_type": "markdown",
   "metadata": {},
   "source": [
    "# Train text vectorizers for code and comments"
   ]
  },
  {
   "cell_type": "code",
   "execution_count": 11,
   "metadata": {},
   "outputs": [],
   "source": [
    "from sklearn.feature_extraction.text import CountVectorizer\n",
    "from sklearn.feature_extraction.text import TfidfTransformer\n",
    "from sklearn.naive_bayes import MultinomialNB\n",
    "import numpy as np"
   ]
  },
  {
   "cell_type": "code",
   "execution_count": 12,
   "metadata": {},
   "outputs": [],
   "source": [
    "from tokenize import generate_tokens\n",
    "class Readliner:\n",
    "    def __init__(self, text_lines):\n",
    "        self.text_lines = text_lines\n",
    "        self.i = 0\n",
    "        \n",
    "    def __call__(self):\n",
    "        if self.i < len(self):\n",
    "            ctxt = self.text_lines[self.i]\n",
    "            self.i += 1\n",
    "            return ctxt\n",
    "        return ''\n",
    "    \n",
    "    def __len__(self):\n",
    "        return len(self.text_lines)\n",
    "\n",
    "def tokenize_py(txt):\n",
    "    try:\n",
    "        return [i.string for i in generate_tokens(Readliner(txt))]\n",
    "    except:\n",
    "        return ['Fehler']"
   ]
  },
  {
   "cell_type": "code",
   "execution_count": 13,
   "metadata": {},
   "outputs": [
    {
     "name": "stderr",
     "output_type": "stream",
     "text": [
      "/Users/Yaroslav.Zharov/anaconda3/lib/python3.10/site-packages/sklearn/feature_extraction/text.py:528: UserWarning: The parameter 'token_pattern' will not be used since 'tokenizer' is not None'\n",
      "  warnings.warn(\n"
     ]
    }
   ],
   "source": [
    "# code tokenized with builtin python tokenizer\n",
    "cv = CountVectorizer(tokenizer=tokenize_py, lowercase=False).fit(train_features['text'].values)\n",
    "tf_transformer = TfidfTransformer().fit(cv.transform(train_features['text'].values))\n",
    "clf = MultinomialNB().fit(tf_transformer.transform(cv.transform(train_features['text'].values)), \n",
    "                          np.vectorize(class_map.get)(train_features[y_column].values).squeeze())"
   ]
  },
  {
   "cell_type": "code",
   "execution_count": 14,
   "metadata": {},
   "outputs": [],
   "source": [
    "# code tokenized with builtin sklearn tokenizer\n",
    "cv_ft = CountVectorizer(lowercase=False).fit([' \\n '.join(i) for i in train_features['text'].values])\n",
    "tf_transformer_ft = TfidfTransformer().fit(cv_ft.transform([' \\n '.join(i) for i in train_features['text'].values]))\n",
    "clf_ft = MultinomialNB().fit(tf_transformer_ft.transform(cv_ft.transform([' \\n '.join(i) for i in train_features['text'].values])), \n",
    "                          np.vectorize(class_map.get)(train_features[y_column].values).squeeze())"
   ]
  },
  {
   "cell_type": "code",
   "execution_count": 15,
   "metadata": {},
   "outputs": [],
   "source": [
    "# comments tokenized with the builtin sklearn tokenizer\n",
    "cv_c = CountVectorizer(lowercase=False).fit([' \\n '.join(i) for i in train_features['text'].values])\n",
    "tf_transformer_c = TfidfTransformer().fit(cv_c.transform([' \\n '.join(i) for i in train_features['text'].values]))\n",
    "clf_c = MultinomialNB().fit(tf_transformer_c.transform(cv_c.transform([' \\n '.join(i) for i in train_features['text'].values])), \n",
    "                          np.vectorize(class_map.get)(train_features[y_column].values).squeeze())"
   ]
  },
  {
   "cell_type": "markdown",
   "metadata": {},
   "source": [
    "# Take care of the data preparation and the decision model"
   ]
  },
  {
   "cell_type": "code",
   "execution_count": 16,
   "metadata": {},
   "outputs": [],
   "source": [
    "def prepare_X(df):\n",
    "    X_numeric = df[X_columns - X_columns_text]\n",
    "    X_text = df[X_columns_text]\n",
    "    X_numeric_texts = X_text.applymap(lambda x: len(x) if not isinstance(x, int) else x)\n",
    "    \n",
    "    X_nbed_text = clf.predict_proba(tf_transformer.transform(cv.transform(df['text'].values)))\n",
    "    X_nbed_text_full = clf_ft.predict_proba(tf_transformer_ft.transform(cv_ft.transform([' \\n '.join(i) for i in df['text'].values])))\n",
    "    X_nbed_comment = clf_c.predict_proba(tf_transformer_c.transform(cv_c.transform([' \\n '.join(i) for i in df['comment'].values])))\n",
    "    \n",
    "    X = pd.merge(X_numeric, X_numeric_texts, left_index=True, right_index=True)\n",
    "    X = pd.merge(X, pd.DataFrame(X_nbed_text, columns=[f'nb_{i}' for i in range(10)]), \n",
    "                 left_index=True, right_index=True)\n",
    "    X = pd.merge(X, pd.DataFrame(X_nbed_text_full, columns=[f'nb_full_{i}' for i in range(10)]), \n",
    "                 left_index=True, right_index=True)\n",
    "    X = pd.merge(X, pd.DataFrame(X_nbed_comment, columns=[f'nb_full_{i}' for i in range(10)]), \n",
    "                 left_index=True, right_index=True)\n",
    "    return X\n",
    "\n",
    "def prepare_y(df):\n",
    "    y_multi = df[y_columns].values\n",
    "    y_primary = np.vectorize(class_map.get)(df[y_column].values)\n",
    "    return y_multi, y_primary"
   ]
  },
  {
   "cell_type": "code",
   "execution_count": 17,
   "metadata": {
    "scrolled": true
   },
   "outputs": [
    {
     "name": "stderr",
     "output_type": "stream",
     "text": [
      "/var/folders/_4/1svrn8px4fd5s0yfgxznnp440000gp/T/ipykernel_20944/3442842625.py:2: FutureWarning: Passing a set as an indexer is deprecated and will raise in a future version. Use a list instead.\n",
      "  X_numeric = df[X_columns - X_columns_text]\n",
      "/var/folders/_4/1svrn8px4fd5s0yfgxznnp440000gp/T/ipykernel_20944/3442842625.py:3: FutureWarning: Passing a set as an indexer is deprecated and will raise in a future version. Use a list instead.\n",
      "  X_text = df[X_columns_text]\n",
      "/var/folders/_4/1svrn8px4fd5s0yfgxznnp440000gp/T/ipykernel_20944/3442842625.py:2: FutureWarning: Passing a set as an indexer is deprecated and will raise in a future version. Use a list instead.\n",
      "  X_numeric = df[X_columns - X_columns_text]\n",
      "/var/folders/_4/1svrn8px4fd5s0yfgxznnp440000gp/T/ipykernel_20944/3442842625.py:3: FutureWarning: Passing a set as an indexer is deprecated and will raise in a future version. Use a list instead.\n",
      "  X_text = df[X_columns_text]\n"
     ]
    }
   ],
   "source": [
    "X_train = prepare_X(train_features)\n",
    "y_train_multi, y_train_primary = prepare_y(train_features)\n",
    "X_val = prepare_X(validation_features)\n",
    "y_val_multi, y_val_primary = prepare_y(validation_features)"
   ]
  },
  {
   "cell_type": "code",
   "execution_count": 18,
   "metadata": {},
   "outputs": [],
   "source": [
    "from sklearn.ensemble import RandomForestClassifier\n",
    "from sklearn.metrics import f1_score"
   ]
  },
  {
   "cell_type": "code",
   "execution_count": 19,
   "metadata": {},
   "outputs": [
    {
     "name": "stderr",
     "output_type": "stream",
     "text": [
      "/var/folders/_4/1svrn8px4fd5s0yfgxznnp440000gp/T/ipykernel_20944/3261469865.py:1: DataConversionWarning: A column-vector y was passed when a 1d array was expected. Please change the shape of y to (n_samples,), for example using ravel().\n",
      "  rfclf = RandomForestClassifier(min_samples_leaf=10, max_depth=20).fit(X_train, y_train_primary);\n"
     ]
    }
   ],
   "source": [
    "rfclf = RandomForestClassifier(min_samples_leaf=10, max_depth=20).fit(X_train, y_train_primary);"
   ]
  },
  {
   "cell_type": "markdown",
   "metadata": {},
   "source": [
    "# Validate the model, prepare for tests"
   ]
  },
  {
   "cell_type": "code",
   "execution_count": 20,
   "metadata": {
    "scrolled": true
   },
   "outputs": [
    {
     "data": {
      "text/plain": [
       "0.6953814218993254"
      ]
     },
     "execution_count": 20,
     "metadata": {},
     "output_type": "execute_result"
    }
   ],
   "source": [
    "f1_score(y_val_primary, rfclf.predict(X_val), average='micro')"
   ]
  },
  {
   "cell_type": "code",
   "execution_count": 21,
   "metadata": {
    "scrolled": true
   },
   "outputs": [
    {
     "data": {
      "text/plain": [
       "array([0.94668118, 0.93050648, 0.93729569, 0.90600069, 0.92554901,\n",
       "       0.86713287, 0.90744921, 0.85714286, 0.80655738, 0.98876404])"
      ]
     },
     "execution_count": 21,
     "metadata": {},
     "output_type": "execute_result"
    }
   ],
   "source": [
    "f1_score(y_train_primary, rfclf.predict(X_train), average=None)"
   ]
  },
  {
   "cell_type": "code",
   "execution_count": 22,
   "metadata": {},
   "outputs": [
    {
     "data": {
      "text/plain": [
       "array([0.92957746, 0.68070175, 0.73221423, 0.65531915, 0.72472784,\n",
       "       0.3626943 , 0.46808511, 0.44897959, 0.19047619, 0.89361702])"
      ]
     },
     "execution_count": 22,
     "metadata": {},
     "output_type": "execute_result"
    }
   ],
   "source": [
    "f1_score(y_val_primary, rfclf.predict(X_val), average=None)"
   ]
  },
  {
   "cell_type": "code",
   "execution_count": 23,
   "metadata": {},
   "outputs": [
    {
     "name": "stderr",
     "output_type": "stream",
     "text": [
      "/var/folders/_4/1svrn8px4fd5s0yfgxznnp440000gp/T/ipykernel_20944/3442842625.py:2: FutureWarning: Passing a set as an indexer is deprecated and will raise in a future version. Use a list instead.\n",
      "  X_numeric = df[X_columns - X_columns_text]\n",
      "/var/folders/_4/1svrn8px4fd5s0yfgxznnp440000gp/T/ipykernel_20944/3442842625.py:3: FutureWarning: Passing a set as an indexer is deprecated and will raise in a future version. Use a list instead.\n",
      "  X_text = df[X_columns_text]\n"
     ]
    }
   ],
   "source": [
    "p_test = rfclf.predict(prepare_X(test_features))"
   ]
  },
  {
   "cell_type": "code",
   "execution_count": 24,
   "metadata": {},
   "outputs": [
    {
     "ename": "NameError",
     "evalue": "name 'y_test_primary' is not defined",
     "output_type": "error",
     "traceback": [
      "\u001b[0;31m---------------------------------------------------------------------------\u001b[0m",
      "\u001b[0;31mNameError\u001b[0m                                 Traceback (most recent call last)",
      "Cell \u001b[0;32mIn[24], line 1\u001b[0m\n\u001b[0;32m----> 1\u001b[0m f1_score(\u001b[43my_test_primary\u001b[49m, rfclf\u001b[38;5;241m.\u001b[39mpredict(X_val), average\u001b[38;5;241m=\u001b[39m\u001b[38;5;28;01mNone\u001b[39;00m)\n",
      "\u001b[0;31mNameError\u001b[0m: name 'y_test_primary' is not defined"
     ]
    }
   ],
   "source": [
    "f1_score(y_test_primary, rfclf.predict(X_val), average=None)"
   ]
  }
 ],
 "metadata": {
  "kernelspec": {
   "display_name": "Python 3 (ipykernel)",
   "language": "python",
   "name": "python3"
  },
  "language_info": {
   "codemirror_mode": {
    "name": "ipython",
    "version": 3
   },
   "file_extension": ".py",
   "mimetype": "text/x-python",
   "name": "python",
   "nbconvert_exporter": "python",
   "pygments_lexer": "ipython3",
   "version": "3.10.9"
  }
 },
 "nbformat": 4,
 "nbformat_minor": 1
}
